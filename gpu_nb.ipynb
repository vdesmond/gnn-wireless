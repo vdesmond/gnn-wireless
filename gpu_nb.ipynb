{
  "nbformat": 4,
  "nbformat_minor": 0,
  "metadata": {
    "colab": {
      "name": "gnn_d2d_link_scheduling.ipynb",
      "provenance": []
    },
    "kernelspec": {
      "name": "python3",
      "display_name": "Python 3"
    },
    "language_info": {
      "name": "python"
    }
  },
  "cells": [
    {
      "cell_type": "code",
      "execution_count": null,
      "metadata": {
        "id": "q2j0gb_pTA3R"
      },
      "outputs": [],
      "source": [
        "./multirun.sh"
      ]
    }
  ]
}